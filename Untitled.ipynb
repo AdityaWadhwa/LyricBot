{
 "cells": [
  {
   "cell_type": "code",
   "execution_count": 1,
   "metadata": {
    "collapsed": true
   },
   "outputs": [],
   "source": [
    "import urllib3\n",
    "import certifi\n",
    "from bs4 import BeautifulSoup\n",
    "import urllib3.contrib.pyopenssl\n",
    "from urllib.parse import urlparse\n",
    "from urllib.parse import urlencode\n",
    "urllib3.contrib.pyopenssl.inject_into_urllib3()"
   ]
  },
  {
   "cell_type": "code",
   "execution_count": 3,
   "metadata": {
    "collapsed": true
   },
   "outputs": [],
   "source": [
    "http = urllib3.PoolManager(cert_reqs='CERT_REQUIRED', ca_certs=certifi.where())"
   ]
  },
  {
   "cell_type": "code",
   "execution_count": 5,
   "metadata": {
    "collapsed": false
   },
   "outputs": [
    {
     "name": "stdout",
     "output_type": "stream",
     "text": [
      "https://www.musixmatch.com/lyrics/Oh-Wonder/All-We-Do?apikey=ee092e7cec4ecd85b5e69f6fa8888c54\n",
      "200\n",
      "https://s.mxmcdn.net/images-storage/albums/2/1/2/7/9/9/31997212_800_800.jpg\n"
     ]
    }
   ],
   "source": [
    "o = urlparse(\"https://www.musixmatch.com/lyrics/Oh-Wonder/All-We-Do?utm_source=application&utm_campaign=api&utm_medium=NSIT%3A1409617489986\")\n",
    "\n",
    "encoded_args = urlencode({\"apikey\":\"ee092e7cec4ecd85b5e69f6fa8888c54\"})\n",
    "url=\"https://\"+o.netloc+o.path+\"?\"+encoded_args\n",
    "print(url)\n",
    "try:\n",
    "    r = http.request('GET', url)\n",
    "except urllib3.exceptions.NewConnectionError:\n",
    "    print('Connection failed.')\n",
    "#r = http.request('GET', link)\n",
    "soup = BeautifulSoup(r.data,\"html5lib\")\n",
    "images = soup.find_all(property=\"og:image\")\n",
    "print(r.status)\n",
    "\n",
    "try:\n",
    "    image_url = images[0]['content']\n",
    "except IndexError:\n",
    "    image_url = \"http://s.mxmcdn.net/images-storage/albums/nocover.png\"\n",
    "    print(\"index error occured\")\n",
    "\n",
    "print(image_url)"
   ]
  }
 ],
 "metadata": {
  "kernelspec": {
   "display_name": "Python 3",
   "language": "python",
   "name": "python3"
  },
  "language_info": {
   "codemirror_mode": {
    "name": "ipython",
    "version": 3
   },
   "file_extension": ".py",
   "mimetype": "text/x-python",
   "name": "python",
   "nbconvert_exporter": "python",
   "pygments_lexer": "ipython3",
   "version": "3.6.0"
  }
 },
 "nbformat": 4,
 "nbformat_minor": 2
}
